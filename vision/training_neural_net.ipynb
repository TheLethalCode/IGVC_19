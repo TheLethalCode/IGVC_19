{
 "cells": [
  {
   "cell_type": "code",
   "execution_count": 1,
   "metadata": {},
   "outputs": [],
   "source": [
    "import cv2 as cv\n",
    "import torch\n",
    "import numpy as np"
   ]
  },
  {
   "cell_type": "code",
   "execution_count": 2,
   "metadata": {},
   "outputs": [],
   "source": [
    "x=np.ones((49*69,4812-200)) \n",
    "x_test=np.ones((49*69,200))\n",
    "y=torch.ones((4812-200,2))\n",
    "y_test=torch.ones((200,2))"
   ]
  },
  {
   "cell_type": "code",
   "execution_count": 3,
   "metadata": {},
   "outputs": [],
   "source": [
    "for i in range(1,2334-100+1):\n",
    "    str_temp=\"/home/enigma/igvc_ml/nn/0_\"+str(i)+\" .jpg\"\n",
    "    img=cv.imread(str_temp,0)\n",
    "    x[:,i-1]=np.resize(img,(1,69*49))\n",
    "    y[i-1,0]=0\n",
    "    \n",
    "for i in range(2334-100+1,2334+1):\n",
    "    str_temp=\"/home/enigma/igvc_ml/nn/0_\"+str(i)+\" .jpg\"\n",
    "    img=cv.imread(str_temp,0)\n",
    "    x_test[:,i-(2334-100+1)]=np.resize(img,(1,69*49))\n",
    "    y_test[i-(2334-100+1),0]=0\n",
    "    \n",
    "for i in range(1,2478-100+1):\n",
    "    str_temp=\"/home/enigma/igvc_ml/nn/1_\"+str(i)+\" .jpg\"\n",
    "    img=cv.imread(str_temp,0)\n",
    "    x[:,i+2334-100-1]=np.resize(img,(1,69*49))\n",
    "    y[i+2334-100-1,1]=0\n",
    "for i in range(2478-100+1,2478+1):\n",
    "    str_temp=\"/home/enigma/igvc_ml/nn/1_\"+str(i)+\" .jpg\"\n",
    "    img=cv.imread(str_temp,0)\n",
    "    x_test[:,i+200-1-2478]=np.resize(img,(1,69*49))\n",
    "    y_test[i-2478+200-1,1]=0\n"
   ]
  },
  {
   "cell_type": "code",
   "execution_count": 4,
   "metadata": {
    "scrolled": true
   },
   "outputs": [
    {
     "name": "stdout",
     "output_type": "stream",
     "text": [
      "[[ 253.   35.   38. ...,   22.   23.   39.]\n",
      " [ 255.   34.   36. ...,   24.   22.   41.]\n",
      " [ 255.   30.   36. ...,   21.   27.   44.]\n",
      " ..., \n",
      " [  36.   40.   33. ...,   35.   31.   50.]\n",
      " [  36.   38.   35. ...,   31.   32.   49.]\n",
      " [  32.   41.   35. ...,   28.   29.   51.]]\n",
      "(3381, 4612)\n",
      "tensor([[0., 1.],\n",
      "        [0., 1.],\n",
      "        [0., 1.],\n",
      "        ...,\n",
      "        [1., 0.],\n",
      "        [1., 0.],\n",
      "        [1., 0.]])\n",
      "torch.Size([4612, 2])\n",
      "[[ 23.  63.  60. ...,  40.  42.  38.]\n",
      " [ 22.  71.  64. ...,  36.  47.  36.]\n",
      " [ 21.  72.  64. ...,  39.  44.  23.]\n",
      " ..., \n",
      " [ 35.  24.  39. ...,  66.  36.  24.]\n",
      " [ 34.  22.  39. ...,  70.  35.  31.]\n",
      " [ 31.  18.  43. ...,  64.  34.  42.]]\n",
      "(3381, 200)\n",
      "tensor([[0., 1.],\n",
      "        [0., 1.],\n",
      "        [0., 1.],\n",
      "        [0., 1.],\n",
      "        [0., 1.],\n",
      "        [0., 1.],\n",
      "        [0., 1.],\n",
      "        [0., 1.],\n",
      "        [0., 1.],\n",
      "        [0., 1.],\n",
      "        [0., 1.],\n",
      "        [0., 1.],\n",
      "        [0., 1.],\n",
      "        [0., 1.],\n",
      "        [0., 1.],\n",
      "        [0., 1.],\n",
      "        [0., 1.],\n",
      "        [0., 1.],\n",
      "        [0., 1.],\n",
      "        [0., 1.],\n",
      "        [0., 1.],\n",
      "        [0., 1.],\n",
      "        [0., 1.],\n",
      "        [0., 1.],\n",
      "        [0., 1.],\n",
      "        [0., 1.],\n",
      "        [0., 1.],\n",
      "        [0., 1.],\n",
      "        [0., 1.],\n",
      "        [0., 1.],\n",
      "        [0., 1.],\n",
      "        [0., 1.],\n",
      "        [0., 1.],\n",
      "        [0., 1.],\n",
      "        [0., 1.],\n",
      "        [0., 1.],\n",
      "        [0., 1.],\n",
      "        [0., 1.],\n",
      "        [0., 1.],\n",
      "        [0., 1.],\n",
      "        [0., 1.],\n",
      "        [0., 1.],\n",
      "        [0., 1.],\n",
      "        [0., 1.],\n",
      "        [0., 1.],\n",
      "        [0., 1.],\n",
      "        [0., 1.],\n",
      "        [0., 1.],\n",
      "        [0., 1.],\n",
      "        [0., 1.],\n",
      "        [0., 1.],\n",
      "        [0., 1.],\n",
      "        [0., 1.],\n",
      "        [0., 1.],\n",
      "        [0., 1.],\n",
      "        [0., 1.],\n",
      "        [0., 1.],\n",
      "        [0., 1.],\n",
      "        [0., 1.],\n",
      "        [0., 1.],\n",
      "        [0., 1.],\n",
      "        [0., 1.],\n",
      "        [0., 1.],\n",
      "        [0., 1.],\n",
      "        [0., 1.],\n",
      "        [0., 1.],\n",
      "        [0., 1.],\n",
      "        [0., 1.],\n",
      "        [0., 1.],\n",
      "        [0., 1.],\n",
      "        [0., 1.],\n",
      "        [0., 1.],\n",
      "        [0., 1.],\n",
      "        [0., 1.],\n",
      "        [0., 1.],\n",
      "        [0., 1.],\n",
      "        [0., 1.],\n",
      "        [0., 1.],\n",
      "        [0., 1.],\n",
      "        [0., 1.],\n",
      "        [0., 1.],\n",
      "        [0., 1.],\n",
      "        [0., 1.],\n",
      "        [0., 1.],\n",
      "        [0., 1.],\n",
      "        [0., 1.],\n",
      "        [0., 1.],\n",
      "        [0., 1.],\n",
      "        [0., 1.],\n",
      "        [0., 1.],\n",
      "        [0., 1.],\n",
      "        [0., 1.],\n",
      "        [0., 1.],\n",
      "        [0., 1.],\n",
      "        [0., 1.],\n",
      "        [0., 1.],\n",
      "        [0., 1.],\n",
      "        [0., 1.],\n",
      "        [0., 1.],\n",
      "        [0., 1.],\n",
      "        [1., 0.],\n",
      "        [1., 0.],\n",
      "        [1., 0.],\n",
      "        [1., 0.],\n",
      "        [1., 0.],\n",
      "        [1., 0.],\n",
      "        [1., 0.],\n",
      "        [1., 0.],\n",
      "        [1., 0.],\n",
      "        [1., 0.],\n",
      "        [1., 0.],\n",
      "        [1., 0.],\n",
      "        [1., 0.],\n",
      "        [1., 0.],\n",
      "        [1., 0.],\n",
      "        [1., 0.],\n",
      "        [1., 0.],\n",
      "        [1., 0.],\n",
      "        [1., 0.],\n",
      "        [1., 0.],\n",
      "        [1., 0.],\n",
      "        [1., 0.],\n",
      "        [1., 0.],\n",
      "        [1., 0.],\n",
      "        [1., 0.],\n",
      "        [1., 0.],\n",
      "        [1., 0.],\n",
      "        [1., 0.],\n",
      "        [1., 0.],\n",
      "        [1., 0.],\n",
      "        [1., 0.],\n",
      "        [1., 0.],\n",
      "        [1., 0.],\n",
      "        [1., 0.],\n",
      "        [1., 0.],\n",
      "        [1., 0.],\n",
      "        [1., 0.],\n",
      "        [1., 0.],\n",
      "        [1., 0.],\n",
      "        [1., 0.],\n",
      "        [1., 0.],\n",
      "        [1., 0.],\n",
      "        [1., 0.],\n",
      "        [1., 0.],\n",
      "        [1., 0.],\n",
      "        [1., 0.],\n",
      "        [1., 0.],\n",
      "        [1., 0.],\n",
      "        [1., 0.],\n",
      "        [1., 0.],\n",
      "        [1., 0.],\n",
      "        [1., 0.],\n",
      "        [1., 0.],\n",
      "        [1., 0.],\n",
      "        [1., 0.],\n",
      "        [1., 0.],\n",
      "        [1., 0.],\n",
      "        [1., 0.],\n",
      "        [1., 0.],\n",
      "        [1., 0.],\n",
      "        [1., 0.],\n",
      "        [1., 0.],\n",
      "        [1., 0.],\n",
      "        [1., 0.],\n",
      "        [1., 0.],\n",
      "        [1., 0.],\n",
      "        [1., 0.],\n",
      "        [1., 0.],\n",
      "        [1., 0.],\n",
      "        [1., 0.],\n",
      "        [1., 0.],\n",
      "        [1., 0.],\n",
      "        [1., 0.],\n",
      "        [1., 0.],\n",
      "        [1., 0.],\n",
      "        [1., 0.],\n",
      "        [1., 0.],\n",
      "        [1., 0.],\n",
      "        [1., 0.],\n",
      "        [1., 0.],\n",
      "        [1., 0.],\n",
      "        [1., 0.],\n",
      "        [1., 0.],\n",
      "        [1., 0.],\n",
      "        [1., 0.],\n",
      "        [1., 0.],\n",
      "        [1., 0.],\n",
      "        [1., 0.],\n",
      "        [1., 0.],\n",
      "        [1., 0.],\n",
      "        [1., 0.],\n",
      "        [1., 0.],\n",
      "        [1., 0.],\n",
      "        [1., 0.],\n",
      "        [1., 0.],\n",
      "        [1., 0.],\n",
      "        [1., 0.],\n",
      "        [1., 0.],\n",
      "        [1., 0.],\n",
      "        [1., 0.]])\n",
      "torch.Size([200, 2])\n"
     ]
    }
   ],
   "source": [
    "print(x)\n",
    "print(x.shape)\n",
    "print(y)\n",
    "print(y.shape)\n",
    "print(x_test)\n",
    "print(x_test.shape)\n",
    "print(y_test)\n",
    "print(y_test.shape)"
   ]
  },
  {
   "cell_type": "code",
   "execution_count": 32,
   "metadata": {
    "scrolled": true
   },
   "outputs": [
    {
     "data": {
      "text/plain": [
       "tensor([[0.2588, 0.2510, 0.2471,  ..., 0.3725, 0.3647, 0.3765],\n",
       "        [0.1137, 0.1216, 0.1373,  ..., 0.1020, 0.1059, 0.0980],\n",
       "        [0.2863, 0.2824, 0.3137,  ..., 0.2863, 0.2745, 0.2078],\n",
       "        ...,\n",
       "        [0.1176, 0.1216, 0.1216,  ..., 0.1373, 0.1451, 0.1373],\n",
       "        [0.1961, 0.2078, 0.2078,  ..., 0.1843, 0.1647, 0.2196],\n",
       "        [0.1373, 0.1647, 0.1608,  ..., 0.1882, 0.1843, 0.1529]])"
      ]
     },
     "execution_count": 32,
     "metadata": {},
     "output_type": "execute_result"
    }
   ],
   "source": [
    "x"
   ]
  },
  {
   "cell_type": "code",
   "execution_count": 5,
   "metadata": {
    "scrolled": true
   },
   "outputs": [],
   "source": [
    "permutation = np.random.permutation(x.shape[1])\n",
    "x = x[:,permutation]\n",
    "y = y[permutation,:]"
   ]
  },
  {
   "cell_type": "code",
   "execution_count": 6,
   "metadata": {},
   "outputs": [
    {
     "name": "stdout",
     "output_type": "stream",
     "text": [
      "(3381, 4612)\n",
      "(4612, 3381)\n",
      "(200, 3381)\n"
     ]
    }
   ],
   "source": [
    "device = torch.device('cpu')\n",
    "print(x.shape)\n",
    "x=np.transpose(x)\n",
    "x = x/255.\n",
    "print(x.shape)\n",
    "x =torch.tensor(x, device=device).float()\n",
    "x_test=np.transpose(x_test)\n",
    "x_test = x_test/255.\n",
    "print(x_test.shape)\n",
    "x_test =torch.tensor(x_test, device=device).float()"
   ]
  },
  {
   "cell_type": "code",
   "execution_count": 7,
   "metadata": {},
   "outputs": [
    {
     "data": {
      "text/plain": [
       "torch.Size([4612, 3381])"
      ]
     },
     "execution_count": 7,
     "metadata": {},
     "output_type": "execute_result"
    }
   ],
   "source": [
    "x.shape"
   ]
  },
  {
   "cell_type": "code",
   "execution_count": 8,
   "metadata": {},
   "outputs": [
    {
     "data": {
      "text/plain": [
       "tensor([[1., 0.],\n",
       "        [0., 1.],\n",
       "        [1., 0.],\n",
       "        ...,\n",
       "        [1., 0.],\n",
       "        [1., 0.],\n",
       "        [1., 0.]])"
      ]
     },
     "execution_count": 8,
     "metadata": {},
     "output_type": "execute_result"
    }
   ],
   "source": [
    "y"
   ]
  },
  {
   "cell_type": "code",
   "execution_count": null,
   "metadata": {},
   "outputs": [],
   "source": []
  },
  {
   "cell_type": "code",
   "execution_count": 9,
   "metadata": {},
   "outputs": [
    {
     "data": {
      "text/plain": [
       "torch.float32"
      ]
     },
     "execution_count": 9,
     "metadata": {},
     "output_type": "execute_result"
    }
   ],
   "source": [
    "y.dtype"
   ]
  },
  {
   "cell_type": "code",
   "execution_count": 10,
   "metadata": {},
   "outputs": [
    {
     "data": {
      "text/plain": [
       "False"
      ]
     },
     "execution_count": 10,
     "metadata": {},
     "output_type": "execute_result"
    }
   ],
   "source": [
    "torch.cuda.is_available()"
   ]
  },
  {
   "cell_type": "code",
   "execution_count": 11,
   "metadata": {},
   "outputs": [
    {
     "data": {
      "text/plain": [
       "torch.Size([4612, 2])"
      ]
     },
     "execution_count": 11,
     "metadata": {},
     "output_type": "execute_result"
    }
   ],
   "source": [
    "y.shape"
   ]
  },
  {
   "cell_type": "code",
   "execution_count": 12,
   "metadata": {},
   "outputs": [],
   "source": [
    "N, D_in, H1,H2, D_out = 4812, 49*69, 1500,500, 2"
   ]
  },
  {
   "cell_type": "code",
   "execution_count": 13,
   "metadata": {},
   "outputs": [],
   "source": [
    "device = torch.device('cpu')"
   ]
  },
  {
   "cell_type": "code",
   "execution_count": 16,
   "metadata": {},
   "outputs": [],
   "source": [
    "model = torch.nn.Sequential(\n",
    "          torch.nn.Linear(D_in, H1),\n",
    "          torch.nn.ReLU(),\n",
    "          torch.nn.Linear(H1, H2),\n",
    "          torch.nn.ReLU(),\n",
    "          torch.nn.Linear(H2, D_out),\n",
    "          torch.nn.Softmax(1),\n",
    "        ).to(device)"
   ]
  },
  {
   "cell_type": "code",
   "execution_count": 17,
   "metadata": {},
   "outputs": [],
   "source": [
    "loss_fn = torch.nn.BCELoss()\n",
    "optimizer = torch.optim.Adam(model.parameters(), lr= 3e-4, betas = (0.9, 0.999), eps = 1e-8)\n",
    "# learning_rate = 1e-4"
   ]
  },
  {
   "cell_type": "code",
   "execution_count": 18,
   "metadata": {
    "scrolled": true
   },
   "outputs": [
    {
     "name": "stdout",
     "output_type": "stream",
     "text": [
      "0 0.6906532645225525 0\n",
      "1 0.7021989822387695 47.81006071118821\n",
      "2 0.6674368977546692 48.438855160451\n",
      "3 0.6604099273681641 88.13963573287077\n",
      "4 0.6528605818748474 87.96617519514311\n",
      "5 0.6312967538833618 48.438855160451\n",
      "6 0.6119062304496765 48.438855160451\n",
      "7 0.590752899646759 87.70598438855161\n",
      "8 0.5701146125793457 88.42150910667823\n",
      "9 0.5432073473930359 89.70078057241977\n",
      "10 0.5178282260894775 89.98265394622725\n",
      "11 0.492212176322937 86.99045967042498\n",
      "12 0.46800366044044495 87.64093668690373\n",
      "13 0.4421653747558594 88.83347788378144\n",
      "14 0.4173176884651184 87.61925411968778\n",
      "15 0.3940370976924896 87.61925411968778\n",
      "16 0.3712739050388336 88.7033824804857\n",
      "17 0.3504829704761505 88.83347788378144\n",
      "18 0.33150771260261536 88.63833477883782\n",
      "19 0.314298540353775 89.15871639202082\n"
     ]
    }
   ],
   "source": [
    "correct=0\n",
    "for t in range(20):\n",
    "    y_pred = model(x)#torch.nn.functional.softmax(model(x))\n",
    "    loss = loss_fn(y_pred, y)\n",
    "    print(t, loss.item(),correct)\n",
    "    optimizer.zero_grad()\n",
    "    loss.backward()\n",
    "#     with torch.no_grad():\n",
    "#         for param in model.parameters():\n",
    "#             param.data -= learning_rate * param.grad\n",
    "    optimizer.step()\n",
    "    a=(y_pred>0.5)\n",
    "    a=a.numpy()\n",
    "    b=y.numpy()\n",
    "    correct=0\n",
    "    for i in range(4612):\n",
    "        if float(a[i,0])==b[i,0] and float(a[i,1])==b[i,1] :\n",
    "            correct=correct+1\n",
    "    correct=correct/46.12\n",
    "    #print(correct/4612)    "
   ]
  },
  {
   "cell_type": "code",
   "execution_count": 19,
   "metadata": {},
   "outputs": [],
   "source": [
    "s=model(x_test)"
   ]
  },
  {
   "cell_type": "raw",
   "metadata": {},
   "source": [
    "s"
   ]
  },
  {
   "cell_type": "code",
   "execution_count": 20,
   "metadata": {},
   "outputs": [
    {
     "name": "stdout",
     "output_type": "stream",
     "text": [
      "tensor([[1.5324e-01, 8.4676e-01],\n",
      "        [2.6497e-01, 7.3503e-01],\n",
      "        [3.9040e-01, 6.0960e-01],\n",
      "        [1.4750e-01, 8.5250e-01],\n",
      "        [4.2378e-01, 5.7622e-01],\n",
      "        [9.2489e-03, 9.9075e-01],\n",
      "        [3.4645e-03, 9.9654e-01],\n",
      "        [3.0127e-01, 6.9873e-01],\n",
      "        [4.9750e-03, 9.9502e-01],\n",
      "        [8.6490e-03, 9.9135e-01],\n",
      "        [1.5690e-01, 8.4310e-01],\n",
      "        [2.5791e-01, 7.4209e-01],\n",
      "        [4.5768e-01, 5.4232e-01],\n",
      "        [2.2524e-02, 9.7748e-01],\n",
      "        [3.4045e-02, 9.6595e-01],\n",
      "        [6.3814e-02, 9.3619e-01],\n",
      "        [6.4086e-02, 9.3591e-01],\n",
      "        [3.2531e-02, 9.6747e-01],\n",
      "        [6.0920e-06, 9.9999e-01],\n",
      "        [2.1887e-01, 7.8113e-01],\n",
      "        [1.3499e-05, 9.9999e-01],\n",
      "        [5.5137e-01, 4.4863e-01],\n",
      "        [5.0283e-01, 4.9717e-01],\n",
      "        [5.5761e-01, 4.4239e-01],\n",
      "        [4.3345e-01, 5.6655e-01],\n",
      "        [4.5330e-01, 5.4670e-01],\n",
      "        [4.5281e-01, 5.4719e-01],\n",
      "        [5.1137e-03, 9.9489e-01],\n",
      "        [6.4507e-03, 9.9355e-01],\n",
      "        [3.8006e-02, 9.6199e-01],\n",
      "        [1.0844e-01, 8.9156e-01],\n",
      "        [3.7100e-01, 6.2900e-01],\n",
      "        [2.9094e-04, 9.9971e-01],\n",
      "        [2.1768e-01, 7.8232e-01],\n",
      "        [7.3367e-03, 9.9266e-01],\n",
      "        [8.5226e-02, 9.1477e-01],\n",
      "        [8.0397e-01, 1.9603e-01],\n",
      "        [3.5177e-01, 6.4823e-01],\n",
      "        [2.9889e-03, 9.9701e-01],\n",
      "        [7.0129e-01, 2.9871e-01],\n",
      "        [7.7724e-01, 2.2276e-01],\n",
      "        [9.1208e-04, 9.9909e-01],\n",
      "        [2.3769e-01, 7.6231e-01],\n",
      "        [5.7378e-01, 4.2622e-01],\n",
      "        [1.0179e-01, 8.9821e-01],\n",
      "        [2.5102e-01, 7.4898e-01],\n",
      "        [5.3165e-01, 4.6835e-01],\n",
      "        [4.1215e-02, 9.5878e-01],\n",
      "        [6.0947e-01, 3.9053e-01],\n",
      "        [7.3475e-02, 9.2653e-01],\n",
      "        [5.6709e-01, 4.3291e-01],\n",
      "        [5.0729e-02, 9.4927e-01],\n",
      "        [3.5698e-01, 6.4302e-01],\n",
      "        [2.2606e-01, 7.7394e-01],\n",
      "        [1.7995e-02, 9.8201e-01],\n",
      "        [4.6478e-05, 9.9995e-01],\n",
      "        [1.4374e-02, 9.8563e-01],\n",
      "        [1.2732e-04, 9.9987e-01],\n",
      "        [2.9233e-01, 7.0767e-01],\n",
      "        [2.2350e-01, 7.7650e-01],\n",
      "        [5.4373e-01, 4.5627e-01],\n",
      "        [6.7180e-02, 9.3282e-01],\n",
      "        [3.6907e-01, 6.3093e-01],\n",
      "        [1.3993e-05, 9.9999e-01],\n",
      "        [2.7815e-01, 7.2185e-01],\n",
      "        [2.9971e-05, 9.9997e-01],\n",
      "        [3.1567e-02, 9.6843e-01],\n",
      "        [4.0086e-02, 9.5991e-01],\n",
      "        [1.6504e-01, 8.3496e-01],\n",
      "        [5.8584e-01, 4.1416e-01],\n",
      "        [4.3863e-01, 5.6137e-01],\n",
      "        [6.8782e-03, 9.9312e-01],\n",
      "        [5.0090e-01, 4.9910e-01],\n",
      "        [7.0010e-02, 9.2999e-01],\n",
      "        [4.5811e-01, 5.4189e-01],\n",
      "        [1.5117e-03, 9.9849e-01],\n",
      "        [9.6107e-03, 9.9039e-01],\n",
      "        [2.9941e-01, 7.0059e-01],\n",
      "        [3.3519e-01, 6.6481e-01],\n",
      "        [2.3287e-01, 7.6713e-01],\n",
      "        [1.1573e-03, 9.9884e-01],\n",
      "        [3.2181e-01, 6.7819e-01],\n",
      "        [1.2654e-02, 9.8735e-01],\n",
      "        [1.0104e-01, 8.9896e-01],\n",
      "        [3.0717e-01, 6.9283e-01],\n",
      "        [1.1812e-03, 9.9882e-01],\n",
      "        [4.5739e-01, 5.4261e-01],\n",
      "        [7.0377e-01, 2.9623e-01],\n",
      "        [2.0070e-04, 9.9980e-01],\n",
      "        [1.3105e-01, 8.6895e-01],\n",
      "        [5.3405e-01, 4.6595e-01],\n",
      "        [3.3448e-01, 6.6552e-01],\n",
      "        [9.1101e-03, 9.9089e-01],\n",
      "        [5.3331e-02, 9.4667e-01],\n",
      "        [2.8080e-01, 7.1920e-01],\n",
      "        [7.6224e-02, 9.2378e-01],\n",
      "        [5.9702e-01, 4.0298e-01],\n",
      "        [6.3248e-01, 3.6752e-01],\n",
      "        [4.2887e-05, 9.9996e-01],\n",
      "        [2.0134e-04, 9.9980e-01],\n",
      "        [8.0428e-01, 1.9572e-01],\n",
      "        [8.0122e-01, 1.9878e-01],\n",
      "        [7.0948e-01, 2.9052e-01],\n",
      "        [8.0408e-01, 1.9592e-01],\n",
      "        [8.6381e-01, 1.3619e-01],\n",
      "        [8.8517e-01, 1.1483e-01],\n",
      "        [8.0479e-01, 1.9521e-01],\n",
      "        [6.3465e-01, 3.6535e-01],\n",
      "        [7.0083e-01, 2.9917e-01],\n",
      "        [8.9278e-01, 1.0722e-01],\n",
      "        [8.3684e-01, 1.6316e-01],\n",
      "        [5.6507e-01, 4.3493e-01],\n",
      "        [6.2434e-01, 3.7566e-01],\n",
      "        [8.2489e-01, 1.7511e-01],\n",
      "        [7.3448e-01, 2.6552e-01],\n",
      "        [8.2579e-01, 1.7421e-01],\n",
      "        [8.4036e-01, 1.5964e-01],\n",
      "        [8.9834e-01, 1.0166e-01],\n",
      "        [8.1706e-01, 1.8294e-01],\n",
      "        [7.0796e-01, 2.9204e-01],\n",
      "        [8.0171e-01, 1.9829e-01],\n",
      "        [6.2507e-01, 3.7493e-01],\n",
      "        [6.9939e-01, 3.0061e-01],\n",
      "        [8.5600e-01, 1.4400e-01],\n",
      "        [8.2305e-01, 1.7695e-01],\n",
      "        [7.3684e-01, 2.6316e-01],\n",
      "        [7.9423e-01, 2.0577e-01],\n",
      "        [9.0718e-01, 9.2820e-02],\n",
      "        [8.4214e-01, 1.5786e-01],\n",
      "        [7.6276e-01, 2.3724e-01],\n",
      "        [5.7966e-01, 4.2034e-01],\n",
      "        [6.7683e-01, 3.2317e-01],\n",
      "        [7.4646e-01, 2.5354e-01],\n",
      "        [8.6351e-01, 1.3649e-01],\n",
      "        [8.3255e-01, 1.6745e-01],\n",
      "        [5.2058e-01, 4.7942e-01],\n",
      "        [8.4483e-01, 1.5517e-01],\n",
      "        [4.0728e-01, 5.9272e-01],\n",
      "        [6.7784e-01, 3.2216e-01],\n",
      "        [7.7487e-01, 2.2513e-01],\n",
      "        [7.2514e-01, 2.7486e-01],\n",
      "        [7.4253e-01, 2.5747e-01],\n",
      "        [9.2088e-01, 7.9123e-02],\n",
      "        [8.2097e-01, 1.7903e-01],\n",
      "        [9.2243e-01, 7.7568e-02],\n",
      "        [6.7226e-01, 3.2774e-01],\n",
      "        [8.6014e-01, 1.3986e-01],\n",
      "        [4.4480e-01, 5.5520e-01],\n",
      "        [8.4926e-01, 1.5074e-01],\n",
      "        [7.0225e-01, 2.9775e-01],\n",
      "        [6.5653e-01, 3.4347e-01],\n",
      "        [1.5898e-01, 8.4102e-01],\n",
      "        [8.4390e-01, 1.5610e-01],\n",
      "        [7.6639e-01, 2.3361e-01],\n",
      "        [3.3183e-01, 6.6817e-01],\n",
      "        [8.5141e-01, 1.4859e-01],\n",
      "        [7.6094e-01, 2.3906e-01],\n",
      "        [6.8062e-01, 3.1938e-01],\n",
      "        [4.6748e-02, 9.5325e-01],\n",
      "        [7.5160e-01, 2.4840e-01],\n",
      "        [7.6025e-01, 2.3975e-01],\n",
      "        [5.6479e-01, 4.3521e-01],\n",
      "        [7.2092e-01, 2.7908e-01],\n",
      "        [7.2963e-01, 2.7037e-01],\n",
      "        [4.5185e-01, 5.4815e-01],\n",
      "        [9.1735e-01, 8.2650e-02],\n",
      "        [7.5673e-01, 2.4327e-01],\n",
      "        [3.3627e-01, 6.6373e-01],\n",
      "        [5.8347e-01, 4.1653e-01],\n",
      "        [7.9214e-01, 2.0786e-01],\n",
      "        [9.2641e-01, 7.3592e-02],\n",
      "        [9.3578e-01, 6.4218e-02],\n",
      "        [5.8190e-01, 4.1810e-01],\n",
      "        [7.9290e-01, 2.0710e-01],\n",
      "        [8.6479e-01, 1.3521e-01],\n",
      "        [8.9862e-01, 1.0138e-01],\n",
      "        [9.2610e-01, 7.3900e-02],\n",
      "        [8.5204e-01, 1.4796e-01],\n",
      "        [7.0923e-01, 2.9077e-01],\n",
      "        [1.8323e-01, 8.1677e-01],\n",
      "        [8.0119e-01, 1.9881e-01],\n",
      "        [8.6942e-01, 1.3058e-01],\n",
      "        [8.1078e-01, 1.8922e-01],\n",
      "        [8.0929e-01, 1.9071e-01],\n",
      "        [7.5760e-01, 2.4240e-01],\n",
      "        [6.7638e-01, 3.2362e-01],\n",
      "        [9.5483e-01, 4.5174e-02],\n",
      "        [8.2997e-01, 1.7003e-01],\n",
      "        [8.1409e-01, 1.8591e-01],\n",
      "        [8.1330e-01, 1.8670e-01],\n",
      "        [4.8673e-01, 5.1327e-01],\n",
      "        [7.4734e-01, 2.5266e-01],\n",
      "        [7.4146e-01, 2.5854e-01],\n",
      "        [4.1846e-01, 5.8154e-01],\n",
      "        [8.2512e-01, 1.7488e-01],\n",
      "        [8.2943e-01, 1.7057e-01],\n",
      "        [7.4518e-01, 2.5482e-01],\n",
      "        [8.6884e-01, 1.3116e-01],\n",
      "        [8.1249e-01, 1.8751e-01],\n",
      "        [7.4342e-01, 2.5658e-01]], grad_fn=<SoftmaxBackward>)\n"
     ]
    }
   ],
   "source": [
    "print(s)"
   ]
  },
  {
   "cell_type": "code",
   "execution_count": 21,
   "metadata": {},
   "outputs": [],
   "source": [
    "s=s>0.5"
   ]
  },
  {
   "cell_type": "code",
   "execution_count": 22,
   "metadata": {},
   "outputs": [],
   "source": [
    "s=s.numpy()"
   ]
  },
  {
   "cell_type": "code",
   "execution_count": 23,
   "metadata": {},
   "outputs": [],
   "source": [
    "c=y_test.numpy()"
   ]
  },
  {
   "cell_type": "code",
   "execution_count": 24,
   "metadata": {},
   "outputs": [],
   "source": [
    "correct=0"
   ]
  },
  {
   "cell_type": "code",
   "execution_count": 35,
   "metadata": {},
   "outputs": [],
   "source": [
    "for i in range(200):\n",
    "        if float(s[i,0])==c[i,0] and float(s[i,1])==c[i,1] :\n",
    "            correct=correct+1"
   ]
  },
  {
   "cell_type": "code",
   "execution_count": 26,
   "metadata": {},
   "outputs": [
    {
     "data": {
      "text/plain": [
       "array([[ 0.,  1.],\n",
       "       [ 0.,  1.],\n",
       "       [ 0.,  1.],\n",
       "       [ 0.,  1.],\n",
       "       [ 0.,  1.],\n",
       "       [ 0.,  1.],\n",
       "       [ 0.,  1.],\n",
       "       [ 0.,  1.],\n",
       "       [ 0.,  1.],\n",
       "       [ 0.,  1.],\n",
       "       [ 0.,  1.],\n",
       "       [ 0.,  1.],\n",
       "       [ 0.,  1.],\n",
       "       [ 0.,  1.],\n",
       "       [ 0.,  1.],\n",
       "       [ 0.,  1.],\n",
       "       [ 0.,  1.],\n",
       "       [ 0.,  1.],\n",
       "       [ 0.,  1.],\n",
       "       [ 0.,  1.],\n",
       "       [ 0.,  1.],\n",
       "       [ 0.,  1.],\n",
       "       [ 0.,  1.],\n",
       "       [ 0.,  1.],\n",
       "       [ 0.,  1.],\n",
       "       [ 0.,  1.],\n",
       "       [ 0.,  1.],\n",
       "       [ 0.,  1.],\n",
       "       [ 0.,  1.],\n",
       "       [ 0.,  1.],\n",
       "       [ 0.,  1.],\n",
       "       [ 0.,  1.],\n",
       "       [ 0.,  1.],\n",
       "       [ 0.,  1.],\n",
       "       [ 0.,  1.],\n",
       "       [ 0.,  1.],\n",
       "       [ 0.,  1.],\n",
       "       [ 0.,  1.],\n",
       "       [ 0.,  1.],\n",
       "       [ 0.,  1.],\n",
       "       [ 0.,  1.],\n",
       "       [ 0.,  1.],\n",
       "       [ 0.,  1.],\n",
       "       [ 0.,  1.],\n",
       "       [ 0.,  1.],\n",
       "       [ 0.,  1.],\n",
       "       [ 0.,  1.],\n",
       "       [ 0.,  1.],\n",
       "       [ 0.,  1.],\n",
       "       [ 0.,  1.],\n",
       "       [ 0.,  1.],\n",
       "       [ 0.,  1.],\n",
       "       [ 0.,  1.],\n",
       "       [ 0.,  1.],\n",
       "       [ 0.,  1.],\n",
       "       [ 0.,  1.],\n",
       "       [ 0.,  1.],\n",
       "       [ 0.,  1.],\n",
       "       [ 0.,  1.],\n",
       "       [ 0.,  1.],\n",
       "       [ 0.,  1.],\n",
       "       [ 0.,  1.],\n",
       "       [ 0.,  1.],\n",
       "       [ 0.,  1.],\n",
       "       [ 0.,  1.],\n",
       "       [ 0.,  1.],\n",
       "       [ 0.,  1.],\n",
       "       [ 0.,  1.],\n",
       "       [ 0.,  1.],\n",
       "       [ 0.,  1.],\n",
       "       [ 0.,  1.],\n",
       "       [ 0.,  1.],\n",
       "       [ 0.,  1.],\n",
       "       [ 0.,  1.],\n",
       "       [ 0.,  1.],\n",
       "       [ 0.,  1.],\n",
       "       [ 0.,  1.],\n",
       "       [ 0.,  1.],\n",
       "       [ 0.,  1.],\n",
       "       [ 0.,  1.],\n",
       "       [ 0.,  1.],\n",
       "       [ 0.,  1.],\n",
       "       [ 0.,  1.],\n",
       "       [ 0.,  1.],\n",
       "       [ 0.,  1.],\n",
       "       [ 0.,  1.],\n",
       "       [ 0.,  1.],\n",
       "       [ 0.,  1.],\n",
       "       [ 0.,  1.],\n",
       "       [ 0.,  1.],\n",
       "       [ 0.,  1.],\n",
       "       [ 0.,  1.],\n",
       "       [ 0.,  1.],\n",
       "       [ 0.,  1.],\n",
       "       [ 0.,  1.],\n",
       "       [ 0.,  1.],\n",
       "       [ 0.,  1.],\n",
       "       [ 0.,  1.],\n",
       "       [ 0.,  1.],\n",
       "       [ 0.,  1.],\n",
       "       [ 1.,  0.],\n",
       "       [ 1.,  0.],\n",
       "       [ 1.,  0.],\n",
       "       [ 1.,  0.],\n",
       "       [ 1.,  0.],\n",
       "       [ 1.,  0.],\n",
       "       [ 1.,  0.],\n",
       "       [ 1.,  0.],\n",
       "       [ 1.,  0.],\n",
       "       [ 1.,  0.],\n",
       "       [ 1.,  0.],\n",
       "       [ 1.,  0.],\n",
       "       [ 1.,  0.],\n",
       "       [ 1.,  0.],\n",
       "       [ 1.,  0.],\n",
       "       [ 1.,  0.],\n",
       "       [ 1.,  0.],\n",
       "       [ 1.,  0.],\n",
       "       [ 1.,  0.],\n",
       "       [ 1.,  0.],\n",
       "       [ 1.,  0.],\n",
       "       [ 1.,  0.],\n",
       "       [ 1.,  0.],\n",
       "       [ 1.,  0.],\n",
       "       [ 1.,  0.],\n",
       "       [ 1.,  0.],\n",
       "       [ 1.,  0.],\n",
       "       [ 1.,  0.],\n",
       "       [ 1.,  0.],\n",
       "       [ 1.,  0.],\n",
       "       [ 1.,  0.],\n",
       "       [ 1.,  0.],\n",
       "       [ 1.,  0.],\n",
       "       [ 1.,  0.],\n",
       "       [ 1.,  0.],\n",
       "       [ 1.,  0.],\n",
       "       [ 1.,  0.],\n",
       "       [ 1.,  0.],\n",
       "       [ 1.,  0.],\n",
       "       [ 1.,  0.],\n",
       "       [ 1.,  0.],\n",
       "       [ 1.,  0.],\n",
       "       [ 1.,  0.],\n",
       "       [ 1.,  0.],\n",
       "       [ 1.,  0.],\n",
       "       [ 1.,  0.],\n",
       "       [ 1.,  0.],\n",
       "       [ 1.,  0.],\n",
       "       [ 1.,  0.],\n",
       "       [ 1.,  0.],\n",
       "       [ 1.,  0.],\n",
       "       [ 1.,  0.],\n",
       "       [ 1.,  0.],\n",
       "       [ 1.,  0.],\n",
       "       [ 1.,  0.],\n",
       "       [ 1.,  0.],\n",
       "       [ 1.,  0.],\n",
       "       [ 1.,  0.],\n",
       "       [ 1.,  0.],\n",
       "       [ 1.,  0.],\n",
       "       [ 1.,  0.],\n",
       "       [ 1.,  0.],\n",
       "       [ 1.,  0.],\n",
       "       [ 1.,  0.],\n",
       "       [ 1.,  0.],\n",
       "       [ 1.,  0.],\n",
       "       [ 1.,  0.],\n",
       "       [ 1.,  0.],\n",
       "       [ 1.,  0.],\n",
       "       [ 1.,  0.],\n",
       "       [ 1.,  0.],\n",
       "       [ 1.,  0.],\n",
       "       [ 1.,  0.],\n",
       "       [ 1.,  0.],\n",
       "       [ 1.,  0.],\n",
       "       [ 1.,  0.],\n",
       "       [ 1.,  0.],\n",
       "       [ 1.,  0.],\n",
       "       [ 1.,  0.],\n",
       "       [ 1.,  0.],\n",
       "       [ 1.,  0.],\n",
       "       [ 1.,  0.],\n",
       "       [ 1.,  0.],\n",
       "       [ 1.,  0.],\n",
       "       [ 1.,  0.],\n",
       "       [ 1.,  0.],\n",
       "       [ 1.,  0.],\n",
       "       [ 1.,  0.],\n",
       "       [ 1.,  0.],\n",
       "       [ 1.,  0.],\n",
       "       [ 1.,  0.],\n",
       "       [ 1.,  0.],\n",
       "       [ 1.,  0.],\n",
       "       [ 1.,  0.],\n",
       "       [ 1.,  0.],\n",
       "       [ 1.,  0.],\n",
       "       [ 1.,  0.],\n",
       "       [ 1.,  0.],\n",
       "       [ 1.,  0.],\n",
       "       [ 1.,  0.]], dtype=float32)"
      ]
     },
     "execution_count": 26,
     "metadata": {},
     "output_type": "execute_result"
    }
   ],
   "source": [
    "c\n"
   ]
  },
  {
   "cell_type": "code",
   "execution_count": 27,
   "metadata": {},
   "outputs": [
    {
     "data": {
      "text/plain": [
       "86.5"
      ]
     },
     "execution_count": 27,
     "metadata": {},
     "output_type": "execute_result"
    }
   ],
   "source": [
    "correct/2"
   ]
  },
  {
   "cell_type": "code",
   "execution_count": 28,
   "metadata": {},
   "outputs": [],
   "source": [
    "torch.save(model, 'tensor1.pt')\n"
   ]
  },
  {
   "cell_type": "code",
   "execution_count": 152,
   "metadata": {},
   "outputs": [
    {
     "name": "stdout",
     "output_type": "stream",
     "text": [
      "not lane\n"
     ]
    },
    {
     "data": {
      "image/png": "[encoded data removed]",
      "text/plain": [
       "<Figure size 432x288 with 1 Axes>"
      ]
     },
     "metadata": {
      "needs_background": "light"
     },
     "output_type": "display_data"
    }
   ],
   "source": [
    "key = 0\n",
    "for i in range(200):\n",
    "    if float(s[i,0])!=c[i,0] or float(s[i,1])!=c[i,1] :\n",
    "            a=(255*x_test[i,:]).numpy()\n",
    "            a=np.resize(a,(49,69)).reshape(69,-1)\n",
    "            a = a.astype(int)\n",
    "            #print(a)\n",
    "            if key==10:\n",
    "                if s[i,0]==0 and s[i,1]==1:\n",
    "                    plt.imshow(a, cmap='gray', vmin=0, vmax=255)\n",
    "                    print(\"lane\")\n",
    "                if s[i,0]==1 and s[i,1]==0:\n",
    "                    plt.imshow(a, cmap='gray', vmin=0, vmax=255)\n",
    "                    print(\"not lane\")\n",
    "            key += 1\n",
    "\n",
    "            "
   ]
  },
  {
   "cell_type": "code",
   "execution_count": 33,
   "metadata": {},
   "outputs": [],
   "source": [
    "import matplotlib.pyplot as plt\n",
    "import matplotlib.image as mpimg"
   ]
  },
  {
   "cell_type": "code",
   "execution_count": 141,
   "metadata": {},
   "outputs": [
    {
     "name": "stdout",
     "output_type": "stream",
     "text": [
      "lane\n"
     ]
    },
    {
     "data": {
      "image/png": "[encoded data removed]",
      "text/plain": [
       "<Figure size 432x288 with 1 Axes>"
      ]
     },
     "metadata": {
      "needs_background": "light"
     },
     "output_type": "display_data"
    }
   ],
   "source": [
    "key = 0\n",
    "for i in range(200):\n",
    "    if float(s[i,0])==c[i,0] and float(s[i,1])==c[i,1] :\n",
    "            a=(255*x_test[i,:]).numpy()\n",
    "            a=np.resize(a,(69,49))\n",
    "            a = a.astype(int)\n",
    "            #print(a)\n",
    "            if key==13:\n",
    "                if s[i,0]==0 and s[i,1]==1:\n",
    "                    plt.imshow(a, cmap='gray', vmin=0, vmax=255)\n",
    "                    print(\"lane\")\n",
    "                if s[i,0]==1 and s[i,1]==0:\n",
    "                    plt.imshow(a, cmap='gray', vmin=0, vmax=255)\n",
    "                    print(\"not lane\")\n",
    "            key += 1\n"
   ]
  },
  {
   "cell_type": "code",
   "execution_count": null,
   "metadata": {},
   "outputs": [],
   "source": []
  }
 ],
 "metadata": {
  "kernelspec": {
   "display_name": "Python 3",
   "language": "python",
   "name": "python3"
  },
  "language_info": {
   "codemirror_mode": {
    "name": "ipython",
    "version": 3
   },
   "file_extension": ".py",
   "mimetype": "text/x-python",
   "name": "python",
   "nbconvert_exporter": "python",
   "pygments_lexer": "ipython3",
   "version": "3.5.2"
  }
 },
 "nbformat": 4,
 "nbformat_minor": 2
}
